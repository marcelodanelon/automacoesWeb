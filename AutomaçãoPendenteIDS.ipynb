{
 "cells": [
  {
   "cell_type": "code",
   "execution_count": null,
   "id": "e6b66918",
   "metadata": {},
   "outputs": [],
   "source": [
    "import time\n",
    "\n",
    "from selenium import webdriver\n",
    "from selenium.webdriver.common.keys import Keys\n",
    "from selenium.webdriver.common.by import By\n",
    "\n",
    "options  = webdriver.ChromeOptions()\n",
    "options.add_argument(\"--incognito\")\n",
    "\n",
    "# Abrir navegador\n",
    "navegador = webdriver.Chrome(options=options)\n",
    "navegador.maximize_window()\n",
    "navegador.get('https://maestrosistemas.movidesk.com')\n",
    "\n",
    "navegador.find_element('xpath', \"/html/body/div[1]/section/div/div[1]/div/div[2]/div[2]/div[2]/form/div/div/div[1]/input[1]\").send_keys('marcelo.danelon')\n",
    "navegador.find_element('xpath', \"/html/body/div[1]/section/div/div[1]/div/div[2]/div[2]/div[2]/form/div/div/div[2]/input[1]\").send_keys('**********')\n",
    "time.sleep(3.0)\n",
    "navegador.find_element('xpath','/html/body/div[1]/section/div/div[1]/div/div[2]/div[2]/div[2]/form/div/div/div[4]/button').send_keys(Keys.ENTER)\n",
    "time.sleep(5.0)\n",
    "navegador.find_element('xpath','/html/body/aside/section/div[2]/a').click()\n",
    "time.sleep(5.0)\n",
    "navegador.find_element('xpath','//*[@id=\"ticket-visualization-container\"]/div[2]/div[2]/ul/li[10]/a').click()\n",
    "time.sleep(10.0)\n",
    "navegador.find_element('xpath','/html/body/section[1]/div[3]/div/div[1]/div[2]/div[1]/div[1]/div/div/div/div[2]/div[2]/button/span[1]').click()\n",
    "time.sleep(5.0)\n",
    "navegador.find_element('xpath','/html/body/section[1]/div[3]/div/div[1]/div[2]/div[1]/div[1]/div/div/div/div[2]/div[2]/ul/li[4]/a').click()\n",
    "time.sleep(5.0)\n",
    "navegador.find_element('xpath','/html/body/footer/div/div/div[3]/div/button[2]').click()\n",
    "time.sleep(10.0)\n",
    "\n",
    "navegador.quit()"
   ]
  },
  {
   "cell_type": "code",
   "execution_count": null,
   "id": "290029be",
   "metadata": {
    "scrolled": true
   },
   "outputs": [],
   "source": [
    "import pandas as pd\n",
    "import os\n",
    "import warnings\n",
    "warnings.simplefilter(\"ignore\")\n",
    "\n",
    "tabela1 = pd.read_excel(r'C:\\Users\\marcelo.danelon\\Downloads\\file.xlsx', engine=\"openpyxl\")\n",
    "\n",
    "os.remove(r'C:\\Users\\marcelo.danelon\\Downloads\\file.xlsx')"
   ]
  },
  {
   "cell_type": "code",
   "execution_count": null,
   "id": "fcb93690",
   "metadata": {},
   "outputs": [],
   "source": [
    "# Contar quantidade de tickets na tabela excel\n",
    "qtdTickets = tabela1['Número'].count()\n",
    "print(qtdTickets)"
   ]
  },
  {
   "cell_type": "code",
   "execution_count": null,
   "id": "16110c2d",
   "metadata": {},
   "outputs": [],
   "source": [
    "navegador = webdriver.Chrome(options=options)\n",
    "navegador.maximize_window()\n",
    "navegador.get('https://ids.movidesk.com/')\n",
    "\n",
    "navegador.find_element('xpath', \"/html/body/div[1]/section/div/div[1]/div/div[2]/div[2]/div[2]/form/div/div/div[1]/input[1]\").send_keys('marcelo.danelon')\n",
    "navegador.find_element('xpath', \"/html/body/div[1]/section/div/div[1]/div/div[2]/div[2]/div[2]/form/div/div/div[2]/input[1]\").send_keys('323212@123')\n",
    "time.sleep(3.0)\n",
    "navegador.find_element('xpath','/html/body/div[1]/section/div/div[1]/div/div[2]/div[2]/div[2]/form/div/div/div[4]/button').send_keys(Keys.ENTER)\n",
    "time.sleep(5.0)\n",
    "navegador.find_element('xpath','/html/body/aside/section/div[2]/a').click()\n",
    "time.sleep(5.0)\n",
    "navegador.find_element('xpath','/html/body/section[1]/div[3]/div/div[1]/div[1]/div/div[2]/div[2]/ul/li[4]/a').click()\n",
    "time.sleep(5.0)\n",
    "\n",
    "for n, m in enumerate(tabela1['Número']):\n",
    "    navegador.find_element('xpath','/html/body/section[1]/div[3]/div/div[1]/div[2]/div[1]/div[1]/div/div/div/div[2]/form/div/input').click()\n",
    "    navegador.find_element('xpath','/html/body/section[1]/div[3]/div/div[1]/div[2]/div[1]/div[1]/div/div/div/div[2]/form/div/input').send_keys(m)\n",
    "    navegador.find_element('xpath','/html/body/section[1]/div[3]/div/div[1]/div[2]/div[1]/div[1]/div/div/div/div[2]/form/div/input').send_keys(Keys.ENTER)\n",
    "    time.sleep(7.0)\n",
    "    try:\n",
    "        justificativa = navegador.find_element('xpath','/html/body/section[1]/div[3]/div/div[1]/div[2]/div[1]/div[2]/div/div[5]/div/div/div[6]/span').text\n",
    "    except:\n",
    "        justificativa = 'Não identificado'\n",
    "    try:\n",
    "        status = navegador.find_element('xpath','/html/body/section[1]/div[3]/div/div[1]/div[2]/div[1]/div[2]/div/div[5]/div/div/div[7]/span').text\n",
    "    except:\n",
    "        status = 'Não identificado' \n",
    "    if status == '1 - Novo':\n",
    "        justificativa = 'Novo'\n",
    "    if status == '5 - Resolvido':\n",
    "        justificativa = 'Resolvido'\n",
    "    print(n, m, status, justificativa)\n",
    "    tabela1.loc[tabela1['Número'] == m,'Status'] = status\n",
    "    tabela1.loc[tabela1['Número'] == m,'Depende da:'] = justificativa\n",
    "    navegador.find_element('xpath','/html/body/section[1]/div[3]/div/div[1]/div[2]/div[1]/div[1]/div/div/div/div[2]/form/div/input').clear()\n",
    "\n",
    "navegador.quit()\n",
    "\n",
    "tabela1.rename(columns = {'Depende da:':'Justificativa'}, inplace = True)\n",
    "\n",
    "tabela1.to_excel(r'C:\\Users\\marcelo.danelon\\Downloads\\PendentesIDS.xlsx', index=False)\n",
    "tabela2 = tabela1"
   ]
  },
  {
   "cell_type": "code",
   "execution_count": null,
   "id": "a70f62e9",
   "metadata": {},
   "outputs": [],
   "source": [
    "import plotly.express as px\n",
    "\n",
    "# criar o gráfico\n",
    "grafico1 = px.histogram(tabela2, x=tabela2['Status'], text_auto=True)\n",
    "# exibir o grafico\n",
    "grafico1.show()\n",
    "\n",
    "# criar o gráfico\n",
    "grafico2 = px.histogram(tabela2, x=tabela2['Justificativa'], text_auto=True)\n",
    "# exibir o grafico\n",
    "grafico2.show()"
   ]
  },
  {
   "cell_type": "code",
   "execution_count": null,
   "id": "66e5a916",
   "metadata": {},
   "outputs": [],
   "source": []
  }
 ],
 "metadata": {
  "kernelspec": {
   "display_name": "Python 3 (ipykernel)",
   "language": "python",
   "name": "python3"
  },
  "language_info": {
   "codemirror_mode": {
    "name": "ipython",
    "version": 3
   },
   "file_extension": ".py",
   "mimetype": "text/x-python",
   "name": "python",
   "nbconvert_exporter": "python",
   "pygments_lexer": "ipython3",
   "version": "3.9.13"
  }
 },
 "nbformat": 4,
 "nbformat_minor": 5
}
